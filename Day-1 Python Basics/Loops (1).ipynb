{
  "cells": [
    {
      "cell_type": "markdown",
      "metadata": {
        "id": "view-in-github",
        "colab_type": "text"
      },
      "source": [
        "<a href=\"https://colab.research.google.com/github/MalleshSonarGithub/60-days-of-code-Data-science/blob/main/Day-1%20Python%20Basics/Loops%20(1).ipynb\" target=\"_parent\"><img src=\"https://colab.research.google.com/assets/colab-badge.svg\" alt=\"Open In Colab\"/></a>"
      ]
    },
    {
      "cell_type": "code",
      "execution_count": null,
      "metadata": {
        "id": "l7RuKSklU9Me"
      },
      "outputs": [],
      "source": [
        "import numpy as np\n",
        "import pandas as pd\n",
        "from numpy import random\n",
        "import matplotlib.pyplot as plt\n",
        "import seaborn as sns"
      ]
    },
    {
      "cell_type": "markdown",
      "metadata": {
        "id": "gjC63FxJU9Mz"
      },
      "source": [
        "## For loop"
      ]
    },
    {
      "cell_type": "code",
      "execution_count": null,
      "metadata": {
        "id": "jPYGrNJBU9M8",
        "outputId": "695cd214-082e-4246-8995-07d27e8b13b6"
      },
      "outputs": [
        {
          "name": "stdout",
          "output_type": "stream",
          "text": [
            "5\n",
            "6\n",
            "7\n",
            "8\n",
            "9\n",
            "10\n",
            "11\n",
            "12\n",
            "13\n",
            "14\n"
          ]
        }
      ],
      "source": [
        "# for loop with range() Function\n",
        "for i in range(5,15):\n",
        "    print(i)"
      ]
    },
    {
      "cell_type": "code",
      "execution_count": null,
      "metadata": {
        "id": "dI-3883dU9NC",
        "outputId": "9035c703-8aa7-4649-b339-e6bf54929bb2"
      },
      "outputs": [
        {
          "name": "stdout",
          "output_type": "stream",
          "text": [
            "ENTER THE MIN NUMBER: 2\n",
            "ENTER THE MAX NUMBER: 10\n",
            "2\n",
            "3\n",
            "5\n",
            "7\n"
          ]
        }
      ],
      "source": [
        "## Prime numbers\n",
        "\n",
        "min=int(input('ENTER THE MIN NUMBER: '))\n",
        "max=int(input('ENTER THE MAX NUMBER: '))\n",
        "for i in range(min, max+1):\n",
        "    if i>1:\n",
        "        for j in range(2,i):\n",
        "            if (i%j)==0:\n",
        "                break\n",
        "        else:\n",
        "            print(i)"
      ]
    },
    {
      "cell_type": "code",
      "execution_count": null,
      "metadata": {
        "id": "D1CMm4JuU9NG",
        "outputId": "2c0f1f26-3dfd-4455-b80d-caad40a95900"
      },
      "outputs": [
        {
          "name": "stdout",
          "output_type": "stream",
          "text": [
            "ENTER THE RANGE: 7\n",
            "prime number\n"
          ]
        }
      ],
      "source": [
        "#format 2\n",
        "\n",
        "num=int(input('ENTER THE RANGE: '))\n",
        "for num in range(num, num+1):\n",
        "    for j in range(2,num):\n",
        "        if (num%2)==0:\n",
        "\n",
        "            print('not prime')\n",
        "\n",
        "        else:\n",
        "            print('prime number')\n",
        "            break"
      ]
    },
    {
      "cell_type": "code",
      "execution_count": null,
      "metadata": {
        "id": "IW3Km0g_U9NJ",
        "outputId": "bc0485e5-32e5-4b46-98bf-3c8ca672bcc5"
      },
      "outputs": [
        {
          "name": "stdout",
          "output_type": "stream",
          "text": [
            "[2, 3, 5, 6, 7, 9]\n"
          ]
        }
      ],
      "source": [
        "##sorting elements in the list\n",
        "list=[5,2,9,3,7,6]\n",
        "\n",
        "for i in range(len(list)):\n",
        "    for j in range(i+1,len(list)):\n",
        "        if list[j]<list[i]:\n",
        "            list[i],list[j]=list[j],list[i]\n",
        "\n",
        "print(list)"
      ]
    },
    {
      "cell_type": "code",
      "execution_count": null,
      "metadata": {
        "id": "hpF6LX3dU9NM",
        "outputId": "d8bd7726-6dbd-46c8-cd1b-f3cde81d75a5"
      },
      "outputs": [
        {
          "name": "stdout",
          "output_type": "stream",
          "text": [
            "65\n"
          ]
        }
      ],
      "source": [
        "#find maximum number from an array\n",
        "\n",
        "list=[12,34,22,65,32]\n",
        "maximum=list[0]\n",
        "for i in list:\n",
        "    if i>maximum:\n",
        "        maximum=i\n",
        "print(maximum)"
      ]
    },
    {
      "cell_type": "code",
      "execution_count": null,
      "metadata": {
        "id": "HAPqt_BBU9NR",
        "outputId": "bbcf9e4d-fda5-4903-cecb-6f2b024bc7f6"
      },
      "outputs": [
        {
          "name": "stdout",
          "output_type": "stream",
          "text": [
            "0\n",
            "1\n",
            "2\n",
            "No.\n"
          ]
        }
      ],
      "source": [
        "sample = [0,1,2]\n",
        "for i in sample:\n",
        "    print(i)\n",
        "else:\n",
        "    print('No.')\n",
        ""
      ]
    },
    {
      "cell_type": "code",
      "execution_count": null,
      "metadata": {
        "id": "rEpLOpvhU9NV",
        "outputId": "0cd8513e-ca2b-406e-dcba-3a2b7a2de7eb"
      },
      "outputs": [
        {
          "name": "stdout",
          "output_type": "stream",
          "text": [
            "1\n",
            "2\n",
            "3\n",
            "4\n",
            "5\n",
            "6\n",
            "7\n",
            "8\n",
            "9\n"
          ]
        }
      ],
      "source": [
        "#while loop\n",
        "\n",
        "count = 1\n",
        "while count<10:\n",
        "    print(count)\n",
        "    count += 1"
      ]
    },
    {
      "cell_type": "code",
      "execution_count": null,
      "metadata": {
        "id": "zuF5GbNvU9NZ",
        "outputId": "bf0cbf7e-d378-4685-c2fc-3a1c6010aae7"
      },
      "outputs": [
        {
          "name": "stdout",
          "output_type": "stream",
          "text": [
            "1\n",
            "2\n",
            "3\n",
            "4\n",
            "5\n",
            "6\n",
            "7\n",
            "8\n",
            "9\n",
            "End of else\n"
          ]
        }
      ],
      "source": [
        "# While loop with else block\n",
        "count = 1\n",
        "while count<10:\n",
        "    print(count)\n",
        "    count += 1\n",
        "else:\n",
        "    print('End of else')"
      ]
    },
    {
      "cell_type": "code",
      "execution_count": null,
      "metadata": {
        "id": "4Bas9dmVU9Ne"
      },
      "outputs": [],
      "source": []
    },
    {
      "cell_type": "code",
      "execution_count": null,
      "metadata": {
        "id": "u0VE965IU9Nh",
        "outputId": "3a38ea3d-8d1c-43c7-a141-354054d745c2"
      },
      "outputs": [
        {
          "name": "stdout",
          "output_type": "stream",
          "text": [
            "* \n",
            "* * \n",
            "* * * \n",
            "* * * * \n",
            "* * * * * \n"
          ]
        }
      ],
      "source": [
        "# Nested loops\n",
        "\n",
        "for i in range(1,6):\n",
        "    for j in range(i):\n",
        "        print('*', end=' ')\n",
        "    print()"
      ]
    },
    {
      "cell_type": "code",
      "execution_count": null,
      "metadata": {
        "id": "JKWCHJ3RU9Nl",
        "outputId": "199b5545-edab-4b6f-d2ca-47bc9a04f606"
      },
      "outputs": [
        {
          "name": "stdout",
          "output_type": "stream",
          "text": [
            "* * * * * * \n",
            "* * * * * \n",
            "* * * * \n",
            "* * * \n",
            "* * \n",
            "* \n"
          ]
        }
      ],
      "source": [
        "num=6\n",
        "for i in range(1,num+1):\n",
        "    for j in range((num-i)+1):\n",
        "        print('*', end=' ')\n",
        "    print()"
      ]
    },
    {
      "cell_type": "code",
      "execution_count": null,
      "metadata": {
        "id": "5VDXQRo7U9Np"
      },
      "outputs": [],
      "source": []
    },
    {
      "cell_type": "code",
      "execution_count": null,
      "metadata": {
        "id": "qcwxyKPHU9Nq"
      },
      "outputs": [],
      "source": []
    },
    {
      "cell_type": "code",
      "execution_count": null,
      "metadata": {
        "id": "vKgKGTlTU9Nr"
      },
      "outputs": [],
      "source": []
    }
  ],
  "metadata": {
    "kernelspec": {
      "display_name": "Python 3",
      "language": "python",
      "name": "python3"
    },
    "language_info": {
      "codemirror_mode": {
        "name": "ipython",
        "version": 3
      },
      "file_extension": ".py",
      "mimetype": "text/x-python",
      "name": "python",
      "nbconvert_exporter": "python",
      "pygments_lexer": "ipython3",
      "version": "3.8.5"
    },
    "colab": {
      "provenance": [],
      "include_colab_link": true
    }
  },
  "nbformat": 4,
  "nbformat_minor": 0
}