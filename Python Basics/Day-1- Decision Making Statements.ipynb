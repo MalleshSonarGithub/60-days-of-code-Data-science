{
 "cells": [
  {
   "cell_type": "markdown",
   "metadata": {},
   "source": [
    "## Python Decision Making"
   ]
  },
  {
   "cell_type": "code",
   "execution_count": 1,
   "metadata": {},
   "outputs": [],
   "source": [
    "import numpy as np\n",
    "import pandas as pd\n",
    "import matplotlib.pyplot as plt\n",
    "import seaborn as sns\n",
    "from datetime import datetime"
   ]
  },
  {
   "cell_type": "markdown",
   "metadata": {},
   "source": [
    "#  if statements:"
   ]
  },
  {
   "cell_type": "code",
   "execution_count": 2,
   "metadata": {},
   "outputs": [
    {
     "name": "stdout",
     "output_type": "stream",
     "text": [
      "N is greater than 10\n"
     ]
    }
   ],
   "source": [
    "# if statement\n",
    "N=10\n",
    "if N>5:\n",
    "    print(\"N is greater than 10\")"
   ]
  },
  {
   "cell_type": "markdown",
   "metadata": {},
   "source": [
    "## if else statements"
   ]
  },
  {
   "cell_type": "code",
   "execution_count": 5,
   "metadata": {},
   "outputs": [
    {
     "name": "stdout",
     "output_type": "stream",
     "text": [
      "True\n"
     ]
    }
   ],
   "source": [
    "#if else statement\n",
    "\n",
    "number = 10\n",
    "if number > 0:\n",
    "    print('True') \n",
    "else: print('False')"
   ]
  },
  {
   "cell_type": "code",
   "execution_count": 3,
   "metadata": {},
   "outputs": [
    {
     "name": "stdout",
     "output_type": "stream",
     "text": [
      "n is smaller than 15\n"
     ]
    }
   ],
   "source": [
    "#if else statement\n",
    "n=15\n",
    "if n>15:\n",
    "    print('n is greater than 15')\n",
    "else:\n",
    "    print('n is smaller than 15')"
   ]
  },
  {
   "cell_type": "markdown",
   "metadata": {},
   "source": [
    "## if elif else statement"
   ]
  },
  {
   "cell_type": "code",
   "execution_count": 4,
   "metadata": {},
   "outputs": [
    {
     "name": "stdout",
     "output_type": "stream",
     "text": [
      "n is greater 15\n"
     ]
    }
   ],
   "source": [
    "#if elif else statement\n",
    "n==20\n",
    "if n==15:\n",
    "    print('n is greater 15')\n",
    "elif n==10:\n",
    "    print('n is less than 10')\n",
    "else:\n",
    "    print(' none of them')"
   ]
  },
  {
   "cell_type": "code",
   "execution_count": 9,
   "metadata": {},
   "outputs": [
    {
     "name": "stdout",
     "output_type": "stream",
     "text": [
      "Number is positive\n"
     ]
    }
   ],
   "source": [
    "a = 12\n",
    "b=6\n",
    "if a>b:\n",
    "    print(\"Number is positive\") \n",
    "elif a==b:\n",
    "    print(\"Both are equal\") \n",
    "else:\n",
    "    print(\"Number is negative\")"
   ]
  },
  {
   "cell_type": "markdown",
   "metadata": {},
   "source": [
    "## Python if...elif...else Statement"
   ]
  },
  {
   "cell_type": "code",
   "execution_count": 10,
   "metadata": {},
   "outputs": [
    {
     "name": "stdout",
     "output_type": "stream",
     "text": [
      "Enter the marks = 80\n",
      "Grade =  B\n",
      "Distinction Achieved !!!!\n"
     ]
    }
   ],
   "source": [
    "# Program to determine a student's grade based on their marks\n",
    "\n",
    "marks=int(input('Enter the marks = '))\n",
    "if marks>=90:\n",
    "    Grade='A'\n",
    "    Distinction= True\n",
    "    \n",
    "elif marks>=80:\n",
    "    Grade='B'\n",
    "    Distinction=True\n",
    "    \n",
    "elif marks>=70:\n",
    "    Grade:'C'\n",
    "    Distinction=False\n",
    "    \n",
    "elif marks>=60:\n",
    "    Grade='D'\n",
    "    Distiction=False\n",
    "print('Grade = ',Grade)\n",
    "if Distinction:\n",
    "    print(\"Distinction Achieved !!!!\")"
   ]
  },
  {
   "cell_type": "markdown",
   "metadata": {},
   "source": [
    "## Nested-if loops:"
   ]
  },
  {
   "cell_type": "code",
   "execution_count": 22,
   "metadata": {},
   "outputs": [
    {
     "name": "stdout",
     "output_type": "stream",
     "text": [
      "Number is 10\n"
     ]
    }
   ],
   "source": [
    "number = 10\n",
    "if (number >= 0):\n",
    "    if number == 10:\n",
    "        print('Number is 10')\n",
    "    else:\n",
    "        print('Number is positive')       \n",
    "else:\n",
    "    print('Number is negative')"
   ]
  },
  {
   "cell_type": "code",
   "execution_count": null,
   "metadata": {},
   "outputs": [],
   "source": []
  }
 ],
 "metadata": {
  "kernelspec": {
   "display_name": "Python 3",
   "language": "python",
   "name": "python3"
  },
  "language_info": {
   "codemirror_mode": {
    "name": "ipython",
    "version": 3
   },
   "file_extension": ".py",
   "mimetype": "text/x-python",
   "name": "python",
   "nbconvert_exporter": "python",
   "pygments_lexer": "ipython3",
   "version": "3.8.5"
  }
 },
 "nbformat": 4,
 "nbformat_minor": 4
}
